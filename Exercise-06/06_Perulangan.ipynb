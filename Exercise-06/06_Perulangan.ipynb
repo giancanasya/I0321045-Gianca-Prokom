{
 "cells": [
  {
   "cell_type": "markdown",
   "metadata": {},
   "source": [
    "***\n",
    "<h1 align=\"center\">Exercise 06</h1>\n",
    " \n",
    "***\n",
    "## While Loop\n",
    "## Exercise 6.1\n",
    "isilah bagian rumpang berikut. xx diganti tanggal lahir dan yy diganti menjadi bulan lahir. tandanya menyesuaikan yang lebih besar."
   ]
  },
  {
   "cell_type": "code",
   "execution_count": null,
   "metadata": {},
   "outputs": [],
   "source": [
    "#menentukan banyak pengulangan\n",
    "n = xx\n",
    "\n",
    "#melakukan pengulangan\n",
    "i = yy\n",
    "\n",
    "while i ___ n :\n",
    "    print (\"...\")\n",
    "    #diisi motto kalian\n",
    "    i = i ___ 1 # sesuaikan dengan atas agar fungsi perulangan dapat berhenti\n"
   ]
  },
  {
   "cell_type": "markdown",
   "metadata": {},
   "source": [
    "## Exercise 6.2\n",
    "\n",
    "Buatlah code seperti yang dicontohkan pada modul agar user dapat menginputkan sendiri jumlah n yang diinginkan"
   ]
  },
  {
   "cell_type": "code",
   "execution_count": 2,
   "metadata": {},
   "outputs": [
    {
     "name": "stdout",
     "output_type": "stream",
     "text": [
      "Belajar dari kegagalan adalah hal yang bijak\n",
      "Belajar dari kegagalan adalah hal yang bijak\n",
      "Belajar dari kegagalan adalah hal yang bijak\n",
      "Belajar dari kegagalan adalah hal yang bijak\n",
      "Belajar dari kegagalan adalah hal yang bijak\n",
      "Belajar dari kegagalan adalah hal yang bijak\n",
      "Belajar dari kegagalan adalah hal yang bijak\n",
      "Belajar dari kegagalan adalah hal yang bijak\n",
      "Belajar dari kegagalan adalah hal yang bijak\n",
      "Belajar dari kegagalan adalah hal yang bijak\n",
      "Belajar dari kegagalan adalah hal yang bijak\n",
      "Belajar dari kegagalan adalah hal yang bijak\n",
      "Belajar dari kegagalan adalah hal yang bijak\n",
      "Belajar dari kegagalan adalah hal yang bijak\n",
      "Belajar dari kegagalan adalah hal yang bijak\n"
     ]
    }
   ],
   "source": [
    "#menentukan banyak pengulangan\n",
    "n = 20\n",
    "\n",
    "#melakukan pengulangan\n",
    "i = 6\n",
    "\n",
    "while i <= n : \n",
    "    print (\"Belajar dari kegagalan adalah hal yang bijak\")\n",
    "    #diisi motto kalian \n",
    "    i = i + 1 # sesuaikan dengan atas agar fungsi perulangan dapat berhenti\n"
   ]
  },
  {
   "cell_type": "markdown",
   "metadata": {},
   "source": [
    "## Excercise 6.3\n",
    "\n",
    "isilah xx, yy, dan tanda rumpang seperti pada exercise 6.1\n"
   ]
  },
  {
   "cell_type": "code",
   "execution_count": 3,
   "metadata": {},
   "outputs": [
    {
     "name": "stdout",
     "output_type": "stream",
     "text": [
      "Baris ke-20 : Vincenzo\n",
      "Baris ke-19 : Vincenzo\n",
      "Baris ke-18 : Vincenzo\n",
      "Baris ke-17 : Vincenzo\n",
      "Baris ke-16 : Vincenzo\n",
      "Baris ke-15 : Vincenzo\n",
      "Baris ke-14 : Vincenzo\n",
      "Baris ke-13 : Vincenzo\n",
      "Baris ke-12 : Vincenzo\n",
      "Baris ke-11 : Vincenzo\n",
      "Baris ke-10 : Vincenzo\n",
      "Baris ke-9 : Vincenzo\n",
      "Baris ke-8 : Vincenzo\n",
      "Baris ke-7 : Vincenzo\n",
      "Baris ke-6 : Vincenzo\n"
     ]
    }
   ],
   "source": [
    "#melakukan pengulangan\n",
    "i = 20\n",
    "\n",
    "while i >= 6 :\n",
    "    print (\"Baris ke-%d : Vincenzo\"%i)\n",
    "    #isi titik-titik dengan judul film favorit kalian\n",
    "    i = i - 1 "
   ]
  },
  {
   "cell_type": "markdown",
   "metadata": {},
   "source": [
    "## FOR LOOP\n",
    "\n",
    "## Exercise 6.4\n",
    "\n",
    "munculkan 3 dari 7 elemen yang berada di dalam list1 dan list2\n"
   ]
  },
  {
   "cell_type": "code",
   "execution_count": 4,
   "metadata": {},
   "outputs": [
    {
     "name": "stdout",
     "output_type": "stream",
     "text": [
      "1 Mie Bali\n",
      "2 Ayam Semarang\n",
      "3 Pizza Jogja\n"
     ]
    }
   ],
   "source": [
    "list1 = [\"Mie\", \"Ayam\", \"Pizza\", \"Pempek\", \"Rendang\", \"Sate\", \"Soto\"] #masukkan 7 list makanan favorit kalian\n",
    "list2 = [\"Bali\", \"Semarang\", \"Jogja\", \"Jakarta\", \"Bandung\", \"Lombok\", \"Solo\"] #masukkan 7 list kota favorit kalian\n",
    "\n",
    "for i in range(0,3) :\n",
    "    print(i+1, list1[i] , list2[i])"
   ]
  },
  {
   "cell_type": "markdown",
   "metadata": {},
   "source": [
    "## Perulangan Bersarang\n",
    "\n",
    "## Exercise 6.5"
   ]
  },
  {
   "cell_type": "code",
   "execution_count": 5,
   "metadata": {},
   "outputs": [
    {
     "name": "stdout",
     "output_type": "stream",
     "text": [
      "400 \n",
      "380 361 \n",
      "360 342 324 \n",
      "340 323 306 289 \n",
      "320 304 288 272 256 \n",
      "300 285 270 255 240 225 \n",
      "280 266 252 238 224 210 196 \n",
      "260 247 234 221 208 195 182 169 \n",
      "240 228 216 204 192 180 168 156 144 \n",
      "220 209 198 187 176 165 154 143 132 121 \n",
      "200 190 180 170 160 150 140 130 120 110 100 \n",
      "180 171 162 153 144 135 126 117 108 99 90 81 \n",
      "160 152 144 136 128 120 112 104 96 88 80 72 64 \n",
      "140 133 126 119 112 105 98 91 84 77 70 63 56 49 \n",
      "120 114 108 102 96 90 84 78 72 66 60 54 48 42 36 \n"
     ]
    }
   ],
   "source": [
    "i = 20\n",
    "while i >= 6:\n",
    "    j = 20\n",
    "    while j>=i:\n",
    "        print(\"%d \" % (i*j), end = '')\n",
    "        j = j - 1\n",
    "    print()\n",
    "    i-=1"
   ]
  },
  {
   "cell_type": "markdown",
   "metadata": {},
   "source": [
    "## Pernyataan Loncat\n",
    "\n",
    "## Exercise 6.\n",
    "\n",
    "Buatlah fungsi berikut agar muncul angka hingga berhenti sesuai dengan nilai qq\n",
    "qq = angka favorit kalian\n",
    "pp>qq"
   ]
  },
  {
   "cell_type": "code",
   "execution_count": 1,
   "metadata": {},
   "outputs": [
    {
     "name": "stdout",
     "output_type": "stream",
     "text": [
      "012345678910111213141516171819202122"
     ]
    }
   ],
   "source": [
    "for i in range(44):\n",
    "    print(i,end='')\n",
    "    if i == 22:\n",
    "        break"
   ]
  },
  {
   "cell_type": "markdown",
   "metadata": {},
   "source": [
    "***\n",
    "<h1 align=\"center\">WELL DONE</h1>\n",
    " \n",
    "***"
   ]
  }
 ],
 "metadata": {
  "interpreter": {
   "hash": "cd08f94adcf3cbae37fe85286256f4c2a10455ca9094fd053e9f3d3f09647223"
  },
  "kernelspec": {
   "display_name": "Python 3.9.7 64-bit",
   "language": "python",
   "name": "python3"
  },
  "language_info": {
   "codemirror_mode": {
    "name": "ipython",
    "version": 3
   },
   "file_extension": ".py",
   "mimetype": "text/x-python",
   "name": "python",
   "nbconvert_exporter": "python",
   "pygments_lexer": "ipython3",
   "version": "3.10.2"
  },
  "orig_nbformat": 4
 },
 "nbformat": 4,
 "nbformat_minor": 2
}
